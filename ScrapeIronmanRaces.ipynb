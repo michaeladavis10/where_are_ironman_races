{
 "cells": [
  {
   "cell_type": "code",
   "execution_count": null,
   "id": "a48ed6e3",
   "metadata": {},
   "outputs": [],
   "source": [
    "# Used to add locations on Google Maps here: https://www.google.com/maps/d/u/0/edit?mid=1z3wWmoi6MFwQs9UReqbQUFVVyLWm3znH&usp=sharing\n",
    "\n",
    "from selenium import webdriver\n",
    "import pandas as pd\n",
    "import time\n",
    "import pygsheets"
   ]
  },
  {
   "cell_type": "code",
   "execution_count": null,
   "id": "afedb01c",
   "metadata": {},
   "outputs": [],
   "source": [
    "url = \"https://www.ironman.com/races\"\n",
    "\n",
    "driver = webdriver.Firefox()\n",
    "\n",
    "driver.get(f'{url}')\n",
    "\n",
    "cookie_accep = '//*[@id=\"onetrust-accept-btn-handler\"]'\n",
    "\n",
    "driver.find_element_by_xpath('//*[@id=\"onetrust-accept-btn-handler\"]').click()"
   ]
  },
  {
   "cell_type": "code",
   "execution_count": null,
   "id": "52008e6b",
   "metadata": {},
   "outputs": [],
   "source": [
    "races_df = pd.DataFrame()\n",
    "race_list = []\n",
    "\n",
    "for page in range(14):\n",
    "    for race in range(1, 16):\n",
    "        try:\n",
    "            \n",
    "            race_dict = {}\n",
    "            \n",
    "            # Safety\n",
    "            for variable in ['race_name', 'race_type', 'race_location', 'race_link', \n",
    "                             'race_swim', 'race_bike', 'race_run', 'race_air_temp', 'race_water_temp', \n",
    "                             'race_airport', 'race_image', 'race_month', 'race_day', 'race_year', 'race_date']:\n",
    "                try:\n",
    "                    del variable\n",
    "                except:\n",
    "                    pass\n",
    "            \n",
    "            \n",
    "            \n",
    "            race_name = driver.find_element_by_xpath(f'/html/body/div[6]/div/div[2]/div[2]/div[2]/div/div/div/div[1]/div[{race}]/div[2]/div[1]/div[1]/h3').text\n",
    "            if '70.3' in race_name:\n",
    "                race_type = '70.3'\n",
    "            elif '5150' in race_name:\n",
    "                race_type = 'Olympic'\n",
    "            else:\n",
    "                race_type = 'Full'\n",
    "\n",
    "            race_dict['Race Name'] = race_name\n",
    "            race_dict['Race Type'] = race_type\n",
    "\n",
    "            race_month = driver.find_element_by_xpath(f'/html/body/div[6]/div/div[2]/div[2]/div[2]/div/div/div/div[1]/div[{race}]/div[1]/div[1]/p[1]').text\n",
    "            race_day = driver.find_element_by_xpath(f'/html/body/div[6]/div/div[2]/div[2]/div[2]/div/div/div/div[1]/div[{race}]/div[1]/div[1]/p[2]').text\n",
    "            race_year = driver.find_element_by_xpath(f'/html/body/div[6]/div/div[2]/div[2]/div[2]/div/div/div/div[1]/div[{race}]/div[1]/div[1]/p[3]').text\n",
    "            \n",
    "            if race_month == 'June':\n",
    "                race_month = 'Jun'\n",
    "            elif race_month == 'July':\n",
    "                race_month = 'Jul'\n",
    "            elif race_month == 'Sept':\n",
    "                race_month = 'Sep'\n",
    "            elif race_month == 'March':\n",
    "                race_month = 'Mar'\n",
    "            elif race_month == 'April':\n",
    "                race_month = 'Apr'\n",
    "            elif race_month == 'TBD':\n",
    "                race_month = 'Dec'\n",
    "                race_day = '31'\n",
    "                \n",
    "            if race_year == 'TBD':\n",
    "                continue\n",
    "            elif race_year == '':\n",
    "                continue\n",
    "            elif race_year == None:\n",
    "                continue\n",
    "            elif race_day == 'TBD':\n",
    "                race_day = '01'\n",
    "            \n",
    "            race_date = pd.to_datetime(race_year + race_month + race_day, format = ('%Y%b%d'))\n",
    "            race_dict['Race Date'] = race_date\n",
    "            \n",
    "            race_location = driver.find_element_by_xpath(f'/html/body/div[6]/div/div[2]/div[2]/div[2]/div/div/div/div[1]/div[{race}]/div[2]/div[1]/div[1]/p[3]').text\n",
    "            race_dict['Location'] = race_location\n",
    "            \n",
    "            race_swim = driver.find_element_by_xpath(f'/html/body/div[6]/div/div[2]/div[2]/div[2]/div/div/div/div[1]/div[{race}]/div[2]/div[2]/div[1]/p/b').text\n",
    "            race_dict['Swim Type'] = race_swim\n",
    "            race_bike = driver.find_element_by_xpath(f'/html/body/div[6]/div/div[2]/div[2]/div[2]/div/div/div/div[1]/div[{race}]/div[2]/div[2]/div[2]/p/b').text\n",
    "            race_dict['Bike Type'] = race_bike\n",
    "            race_run = driver.find_element_by_xpath(f'/html/body/div[6]/div/div[2]/div[2]/div[2]/div/div/div/div[1]/div[{race}]/div[2]/div[2]/div[3]/p/b').text\n",
    "            race_dict['Run Type'] = race_run\n",
    "            race_air_temp = driver.find_element_by_xpath(f'/html/body/div[6]/div/div[2]/div[2]/div[2]/div/div/div/div[1]/div[{race}]/div[2]/div[2]/div[4]/p/b').text\n",
    "            race_dict['Air Temp'] = race_air_temp\n",
    "            race_water_temp = driver.find_element_by_xpath(f'/html/body/div[6]/div/div[2]/div[2]/div[2]/div/div/div/div[1]/div[{race}]/div[2]/div[2]/div[5]/p/b').text\n",
    "            race_dict['Water Temp'] = race_water_temp\n",
    "            race_airport = driver.find_element_by_xpath(f'/html/body/div[6]/div/div[2]/div[2]/div[2]/div/div/div/div[1]/div[{race}]/div[2]/div[2]/div[6]/p/b').text\n",
    "            race_dict['Airport'] = race_airport\n",
    "            \n",
    "            race_link = driver.find_element_by_xpath(f'/html/body/div[6]/div/div[2]/div[2]/div[2]/div/div/div/div[1]/div[{race}]/div[2]/div[1]/div[2]/a').get_attribute('href')\n",
    "            race_dict['URL'] = race_link\n",
    "            \n",
    "            race_image = driver.find_element_by_xpath(f'/html/body/div[6]/div/div[2]/div[2]/div[2]/div/div/div/div[1]/div[{race}]/div[1]/img').get_attribute('src')\n",
    "            race_dict['Race Image'] = race_image\n",
    "                        \n",
    "            race_list.append(race_dict)\n",
    "            \n",
    "        except Exception as e:\n",
    "            print(race_name)\n",
    "            print(race_year)\n",
    "            print(race_month)\n",
    "            print(race_day)\n",
    "            print(e)\n",
    "            continue\n",
    "\n",
    "    \n",
    "    try:\n",
    "        next_page_button = driver.find_element_by_css_selector('button.nextPageButton')\n",
    "        driver.execute_script(\"arguments[0].scrollIntoView();\", next_page_button)\n",
    "        time.sleep(0.25)\n",
    "        next_page_button.click()\n",
    "        \n",
    "    except Exception as e:\n",
    "        print(e)\n",
    "        pass\n",
    "    \n",
    "    time.sleep(0.5)"
   ]
  },
  {
   "cell_type": "code",
   "execution_count": null,
   "id": "04fb2aad",
   "metadata": {},
   "outputs": [],
   "source": [
    "driver.quit()"
   ]
  },
  {
   "cell_type": "code",
   "execution_count": null,
   "id": "4ecbd090",
   "metadata": {},
   "outputs": [],
   "source": [
    "races_df = pd.DataFrame(race_list)\n",
    "races_df"
   ]
  },
  {
   "cell_type": "code",
   "execution_count": null,
   "id": "3b20b1da",
   "metadata": {},
   "outputs": [],
   "source": [
    "races_df.to_excel('ironman_races.xlsx', index = False)"
   ]
  },
  {
   "cell_type": "code",
   "execution_count": null,
   "id": "1d203eb8",
   "metadata": {},
   "outputs": [],
   "source": [
    "# Write to G-Sheets\n",
    "gc = pygsheets.authorize(service_file = '/Users/mdavis/dev/ironman/ironmanmaps-cce634a56b5e.json')\n"
   ]
  },
  {
   "cell_type": "code",
   "execution_count": null,
   "id": "0a186ffa",
   "metadata": {},
   "outputs": [],
   "source": [
    "wb = gc.open('140.6')\n",
    "wks = wb.worksheet('title','Sheet1')\n",
    "wks.clear()\n",
    "wks.set_dataframe(races_df[races_df['Race Type'] == 'Full'],(1,1))\n",
    "wks.adjust_column_width(1, len(races_df.columns))"
   ]
  },
  {
   "cell_type": "code",
   "execution_count": null,
   "id": "a111ff13",
   "metadata": {},
   "outputs": [],
   "source": [
    "wb = gc.open('70.3')\n",
    "wks = wb.worksheet('title','Sheet1')\n",
    "wks.clear()\n",
    "wks.set_dataframe(races_df[races_df['Race Type'] == '70.3'],(1,1))\n",
    "wks.adjust_column_width(1, len(races_df.columns))"
   ]
  },
  {
   "cell_type": "code",
   "execution_count": null,
   "id": "0fb2994c",
   "metadata": {},
   "outputs": [],
   "source": [
    "wb = gc.open('Olympic')\n",
    "wks = wb.worksheet('title','Sheet1')\n",
    "wks.clear()\n",
    "wks.set_dataframe(races_df[races_df['Race Type'] == 'Olympic'],(1,1))\n",
    "wks.adjust_column_width(1, len(races_df.columns))"
   ]
  },
  {
   "cell_type": "code",
   "execution_count": null,
   "id": "6714da07",
   "metadata": {},
   "outputs": [],
   "source": []
  }
 ],
 "metadata": {
  "kernelspec": {
   "display_name": "Python 3 (ipykernel)",
   "language": "python",
   "name": "python3"
  },
  "language_info": {
   "codemirror_mode": {
    "name": "ipython",
    "version": 3
   },
   "file_extension": ".py",
   "mimetype": "text/x-python",
   "name": "python",
   "nbconvert_exporter": "python",
   "pygments_lexer": "ipython3",
   "version": "3.10.4"
  }
 },
 "nbformat": 4,
 "nbformat_minor": 5
}
