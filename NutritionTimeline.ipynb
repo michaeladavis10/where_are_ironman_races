{
 "cells": [
  {
   "cell_type": "code",
   "execution_count": null,
   "id": "64d1ac4e",
   "metadata": {},
   "outputs": [],
   "source": [
    "import pandas as pd\n",
    "import time\n",
    "import pygsheets\n",
    "from datetime import datetime, timedelta\n",
    "import ast"
   ]
  },
  {
   "cell_type": "code",
   "execution_count": null,
   "id": "47a3ca3b",
   "metadata": {},
   "outputs": [],
   "source": [
    "# Write to G-Sheets\n",
    "gc = pygsheets.authorize(service_file = '/Users/mdavis/dev/ironman/ironmanmaps-cce634a56b5e.json')"
   ]
  },
  {
   "cell_type": "code",
   "execution_count": null,
   "id": "4220986b",
   "metadata": {},
   "outputs": [],
   "source": [
    "wb = gc.open('Triathlon Results')"
   ]
  },
  {
   "cell_type": "code",
   "execution_count": null,
   "id": "fb8baad2",
   "metadata": {},
   "outputs": [],
   "source": [
    "wks = wb.worksheet('title','AltNutr')"
   ]
  },
  {
   "cell_type": "code",
   "execution_count": null,
   "id": "fdcd98cc",
   "metadata": {},
   "outputs": [],
   "source": [
    "df = wks.get_as_df()"
   ]
  },
  {
   "cell_type": "code",
   "execution_count": null,
   "id": "57694bbf",
   "metadata": {},
   "outputs": [],
   "source": [
    "Nutrition = df[df['Fluid (mL)'] != '']\n",
    "Nutrition"
   ]
  },
  {
   "cell_type": "code",
   "execution_count": null,
   "id": "a2f68834",
   "metadata": {},
   "outputs": [],
   "source": [
    "params = df[ (df['What'] != '') & (df['Concentration'] != '') & (df['Fluid (mL)'] == '')][['What', 'Concentration']]\n",
    "params.set_index('What', inplace = True)\n",
    "params = params.to_dict(orient = 'dict')['Concentration']\n",
    "params"
   ]
  },
  {
   "cell_type": "code",
   "execution_count": null,
   "id": "d417b554",
   "metadata": {},
   "outputs": [],
   "source": [
    "# Create dictionary with times\n",
    "time_dict = {}\n",
    "\n",
    "# Convert aid stations to time\n",
    "swim_distace = 2112\n",
    "bike_distance = 56\n",
    "run_distance = 13.1\n",
    "\n",
    "# Swim Start\n",
    "swim_start = pd.to_datetime('20220911 ' + params['Swim Start Time'], format = '%Y%m%d %H:%M %p')\n",
    "time_dict['Swim Start'] = swim_start\n",
    "\n",
    "# Pre-Swim Nutrition (done after swim start - just to not have to redo logic)\n",
    "time_dict['Pre-Swim Nutrition Start'] = swim_start - timedelta(minutes = 25)\n",
    "\n",
    "# Swim Duration\n",
    "swim_pace = datetime.strptime(params['Swim Average Speed'].split(' ')[0], \"%M:%S\")\n",
    "swim_delta = timedelta(minutes = swim_pace.minute, seconds = swim_pace.second)\n",
    "swim_duration = (swim_distace / 100) * swim_delta\n",
    "t1_start = swim_start + swim_duration\n",
    "time_dict['T1 Start'] = t1_start\n",
    "\n",
    "# T1\n",
    "t1_time = datetime.strptime(params['T1'], \"%M:%S\")\n",
    "t1_duration = timedelta(minutes = t1_time.minute, seconds = t1_time.second)\n",
    "bike_start = t1_start + t1_duration\n",
    "time_dict['Bike Start'] = bike_start\n",
    "\n",
    "# Bike\n",
    "bike_pace = float(params['Bike Average Speed'].split(' ')[0])\n",
    "bike_duration = timedelta(hours = bike_distance / bike_pace)\n",
    "t2_start = bike_start + bike_duration\n",
    "time_dict['T2 Start'] = t2_start\n",
    "\n",
    "# T2\n",
    "t2_time = datetime.strptime(params['T2'], \"%M:%S\")\n",
    "t2_duration = timedelta(minutes = t2_time.minute, seconds = t2_time.second)\n",
    "run_start = t2_start + t2_duration\n",
    "time_dict['Run Start'] = run_start\n",
    "\n",
    "# Run\n",
    "run_pace = datetime.strptime(params['Run Average Speed'].split(' ')[0], \"%M:%S\")\n",
    "run_delta = timedelta(minutes = run_pace.minute, seconds = run_pace.second)\n",
    "run_duration = run_distance * run_delta\n",
    "finish = run_start + run_duration\n",
    "time_dict['Finish'] = finish\n",
    "\n",
    "# Bike Aid Stations\n",
    "bike_aid_stations = ast.literal_eval(params['Bike Aid Stations'])\n",
    "bike_aid_station_times = list()\n",
    "for bike_aid_station in bike_aid_stations:\n",
    "    bike_aid_station_time = bike_start + timedelta(hours = bike_aid_station / bike_pace)\n",
    "    time_dict['Bike Aid Station @ Mile ' + str(bike_aid_station)] = bike_aid_station_time\n",
    "\n",
    "# Run Aid Stations\n",
    "run_aid_stations = ast.literal_eval(params['Run Aid Stations'])\n",
    "run_aid_station_times = list()\n",
    "for run_aid_station in run_aid_stations:\n",
    "    run_aid_station_time = run_start + (run_aid_station * run_delta)\n",
    "    time_dict['Run Aid Station @ Mile ' + str(run_aid_station)] = run_aid_station_time\n",
    "\n",
    "# Create this as a dataframe\n",
    "milestone_df = pd.DataFrame.from_dict(time_dict, orient = 'index', columns = ['Time'])\n",
    "milestone_df.reset_index(drop = False, inplace = True)\n",
    "milestone_df.rename(columns = {'index': 'Milestone'}, inplace = True)\n",
    "milestone_df = milestone_df[['Time', 'Milestone']]\n",
    "milestone_df.sort_values(by = ['Time', 'Milestone'], ascending = [True, True], inplace = True)\n",
    "milestone_df.reset_index(drop = True, inplace = True)\n",
    "\n",
    "# Add the event column\n",
    "milestone_df.loc[:, 'Event'] = 'Swim'\n",
    "milestone_df.loc[milestone_df['Time'] >= t1_start, 'Event'] = 'T1'\n",
    "milestone_df.loc[milestone_df['Time'] >= bike_start, 'Event'] = 'Bike'\n",
    "milestone_df.loc[milestone_df['Time'] >= t2_start, 'Event'] = 'T2'\n",
    "milestone_df.loc[milestone_df['Time'] >= run_start, 'Event'] = 'Run'\n",
    "milestone_df.loc[milestone_df['Time'] >= finish, 'Event'] = 'Finish'\n",
    "\n",
    "# Round to a minute\n",
    "milestone_df['Time'] = milestone_df['Time'].dt.round('min')\n",
    "milestone_df"
   ]
  },
  {
   "cell_type": "code",
   "execution_count": null,
   "id": "3eb8151c",
   "metadata": {},
   "outputs": [],
   "source": [
    "time_df = milestone_df.copy()\n",
    "\n",
    "# Add in sweat rate, carb utilization, Sodium Concentration\n",
    "swim_sweat_rate = params['Swim Sweat Rate']\n",
    "bike_sweat_rate = params['Bike Sweat Rate']\n",
    "run_sweat_rate = params['Run Sweat Rate']\n",
    "carb_expenditure = params['Carb Utilization Rate']\n",
    "sodium_concentration = params['Sodium Concentration']\n",
    "\n",
    "time_df.loc[time_df['Event'] == 'Swim', 'SweatRate'] = swim_sweat_rate\n",
    "time_df.loc[time_df['Event'] == 'T1', 'SweatRate'] = swim_sweat_rate\n",
    "time_df.loc[time_df['Event'] == 'Bike', 'SweatRate'] = bike_sweat_rate\n",
    "time_df.loc[time_df['Event'] == 'T2', 'SweatRate'] = bike_sweat_rate\n",
    "time_df.loc[time_df['Event'] == 'Run', 'SweatRate'] = run_sweat_rate\n",
    "time_df.loc[time_df['Event'] == 'Finish', 'SweatRate'] = run_sweat_rate\n",
    "\n",
    "time_df.loc[:, 'SodiumConcentration'] = sodium_concentration\n",
    "time_df.loc[:, 'CarbUtilization'] = carb_expenditure\n",
    "\n",
    "# Expand the dataframe per minute\n",
    "time_df.set_index(time_df['Time'], inplace = True)\n",
    "time_df = time_df.resample('T').ffill()\n",
    "time_df.loc[time_df['Time'] != time_df.index, 'Milestone'] = ''\n",
    "time_df.drop(columns = ['Time'], axis = 1, inplace = True)\n",
    "\n",
    "# Convert the rates to per minute value\n",
    "time_df.loc[:, 'FluidExpenditure (mL)'] = time_df['SweatRate'].str.split(' ').str[0].astype(float)/60\n",
    "time_df.loc[:, 'SodiumExpenditure (mg)'] = time_df['SodiumConcentration'].str.split(' ').str[0].astype(float) * time_df['FluidExpenditure (mL)'] / 1000\n",
    "time_df.loc[:, 'CarbExpenditure (g)'] = time_df['CarbUtilization'].str.split(' ').str[0].astype(float)/60\n",
    "\n",
    "time_df"
   ]
  },
  {
   "cell_type": "code",
   "execution_count": null,
   "id": "615fd5e5",
   "metadata": {},
   "outputs": [],
   "source": [
    "# Export for testing\n",
    "\n",
    "wks = wb.worksheet('title','NutritionTimeline')\n",
    "wks.clear()\n",
    "wks.set_dataframe(time_df,(1,1))\n",
    "wks.adjust_column_width(1, len(time_df.columns))"
   ]
  },
  {
   "cell_type": "code",
   "execution_count": null,
   "id": "4b8c2715",
   "metadata": {},
   "outputs": [],
   "source": [
    "priors = Nutrition[Nutrition['Frequency/Interval'].str.contains('prior')].copy()\n",
    "priors.loc[:, 'TimeBefore'] = priors['Frequency/Interval'].str.split(' ').str[0].astype(int)\n",
    "priors.loc[:, 'Time'] = swim_start - pd.to_timedelta(priors['TimeBefore'], unit = 'T')\n",
    "priors\n"
   ]
  },
  {
   "cell_type": "code",
   "execution_count": null,
   "id": "b1a0c395",
   "metadata": {},
   "outputs": [],
   "source": [
    "bike = Nutrition[(Nutrition['Frequency/Interval'].str.contains('bike')) & (~Nutrition['Frequency/Interval'].str.contains('prior'))].copy()\n",
    "bike.loc[:, '']"
   ]
  },
  {
   "cell_type": "code",
   "execution_count": null,
   "id": "d7b4cf2f",
   "metadata": {},
   "outputs": [],
   "source": []
  }
 ],
 "metadata": {
  "kernelspec": {
   "display_name": "Python 3 (ipykernel)",
   "language": "python",
   "name": "python3"
  },
  "language_info": {
   "codemirror_mode": {
    "name": "ipython",
    "version": 3
   },
   "file_extension": ".py",
   "mimetype": "text/x-python",
   "name": "python",
   "nbconvert_exporter": "python",
   "pygments_lexer": "ipython3",
   "version": "3.10.4"
  }
 },
 "nbformat": 4,
 "nbformat_minor": 5
}
